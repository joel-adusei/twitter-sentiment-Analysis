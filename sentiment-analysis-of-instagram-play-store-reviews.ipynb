{
 "cells": [
  {
   "cell_type": "markdown",
   "id": "287a55fc",
   "metadata": {
    "papermill": {
     "duration": 0.008354,
     "end_time": "2023-08-09T22:01:17.877824",
     "exception": false,
     "start_time": "2023-08-09T22:01:17.869470",
     "status": "completed"
    },
    "tags": []
   },
   "source": [
    "# Sentiment Analysis of Instagram Play Store Reviews"
   ]
  },
  {
   "cell_type": "markdown",
   "id": "92d2021c",
   "metadata": {
    "papermill": {
     "duration": 0.007635,
     "end_time": "2023-08-09T22:01:17.893797",
     "exception": false,
     "start_time": "2023-08-09T22:01:17.886162",
     "status": "completed"
    },
    "tags": []
   },
   "source": [
    "# Importing necessary Libraries"
   ]
  },
  {
   "cell_type": "code",
   "execution_count": 1,
   "id": "f48f5f2a",
   "metadata": {
    "_cell_guid": "b1076dfc-b9ad-4769-8c92-a6c4dae69d19",
    "_uuid": "8f2839f25d086af736a60e9eeb907d3b93b6e0e5",
    "execution": {
     "iopub.execute_input": "2023-08-09T22:01:17.911904Z",
     "iopub.status.busy": "2023-08-09T22:01:17.911223Z",
     "iopub.status.idle": "2023-08-09T22:01:20.352490Z",
     "shell.execute_reply": "2023-08-09T22:01:20.351489Z"
    },
    "papermill": {
     "duration": 2.453038,
     "end_time": "2023-08-09T22:01:20.354871",
     "exception": false,
     "start_time": "2023-08-09T22:01:17.901833",
     "status": "completed"
    },
    "tags": []
   },
   "outputs": [
    {
     "name": "stderr",
     "output_type": "stream",
     "text": [
      "/opt/conda/lib/python3.10/site-packages/scipy/__init__.py:146: UserWarning: A NumPy version >=1.16.5 and <1.23.0 is required for this version of SciPy (detected version 1.23.5\n",
      "  warnings.warn(f\"A NumPy version >={np_minversion} and <{np_maxversion}\"\n"
     ]
    }
   ],
   "source": [
    "import numpy as np\n",
    "import pandas as pd \n",
    "from textblob import TextBlob\n",
    "import re\n",
    "import matplotlib.pyplot as plt\n",
    "import seaborn as sns\n",
    "import warnings\n",
    "warnings.filterwarnings('ignore')"
   ]
  },
  {
   "cell_type": "markdown",
   "id": "3dd3f2a0",
   "metadata": {
    "papermill": {
     "duration": 0.008184,
     "end_time": "2023-08-09T22:01:20.371530",
     "exception": false,
     "start_time": "2023-08-09T22:01:20.363346",
     "status": "completed"
    },
    "tags": []
   },
   "source": [
    "# Importing dataset"
   ]
  },
  {
   "cell_type": "code",
   "execution_count": 2,
   "id": "0e52eb89",
   "metadata": {
    "execution": {
     "iopub.execute_input": "2023-08-09T22:01:20.391959Z",
     "iopub.status.busy": "2023-08-09T22:01:20.391298Z",
     "iopub.status.idle": "2023-08-09T22:01:22.488869Z",
     "shell.execute_reply": "2023-08-09T22:01:22.487702Z"
    },
    "papermill": {
     "duration": 2.10987,
     "end_time": "2023-08-09T22:01:22.491566",
     "exception": false,
     "start_time": "2023-08-09T22:01:20.381696",
     "status": "completed"
    },
    "tags": []
   },
   "outputs": [
    {
     "data": {
      "text/html": [
       "<div>\n",
       "<style scoped>\n",
       "    .dataframe tbody tr th:only-of-type {\n",
       "        vertical-align: middle;\n",
       "    }\n",
       "\n",
       "    .dataframe tbody tr th {\n",
       "        vertical-align: top;\n",
       "    }\n",
       "\n",
       "    .dataframe thead th {\n",
       "        text-align: right;\n",
       "    }\n",
       "</style>\n",
       "<table border=\"1\" class=\"dataframe\">\n",
       "  <thead>\n",
       "    <tr style=\"text-align: right;\">\n",
       "      <th></th>\n",
       "      <th>review_description</th>\n",
       "      <th>rating</th>\n",
       "      <th>review_date</th>\n",
       "    </tr>\n",
       "  </thead>\n",
       "  <tbody>\n",
       "    <tr>\n",
       "      <th>0</th>\n",
       "      <td>The app is good for connecting with friends, f...</td>\n",
       "      <td>3</td>\n",
       "      <td>2023-07-11 23:57:07</td>\n",
       "    </tr>\n",
       "    <tr>\n",
       "      <th>1</th>\n",
       "      <td>Used to be my favorite social media app, but \"...</td>\n",
       "      <td>2</td>\n",
       "      <td>2023-07-22 21:37:09</td>\n",
       "    </tr>\n",
       "    <tr>\n",
       "      <th>2</th>\n",
       "      <td>Instagram is the best of all the social media....</td>\n",
       "      <td>5</td>\n",
       "      <td>2023-07-25 03:24:58</td>\n",
       "    </tr>\n",
       "    <tr>\n",
       "      <th>3</th>\n",
       "      <td>I love this app.. but as of late, I have been ...</td>\n",
       "      <td>2</td>\n",
       "      <td>2023-07-09 04:49:57</td>\n",
       "    </tr>\n",
       "    <tr>\n",
       "      <th>4</th>\n",
       "      <td>Used to be a great app but there are so many m...</td>\n",
       "      <td>3</td>\n",
       "      <td>2023-07-17 16:47:04</td>\n",
       "    </tr>\n",
       "  </tbody>\n",
       "</table>\n",
       "</div>"
      ],
      "text/plain": [
       "                                  review_description  rating  \\\n",
       "0  The app is good for connecting with friends, f...       3   \n",
       "1  Used to be my favorite social media app, but \"...       2   \n",
       "2  Instagram is the best of all the social media....       5   \n",
       "3  I love this app.. but as of late, I have been ...       2   \n",
       "4  Used to be a great app but there are so many m...       3   \n",
       "\n",
       "           review_date  \n",
       "0  2023-07-11 23:57:07  \n",
       "1  2023-07-22 21:37:09  \n",
       "2  2023-07-25 03:24:58  \n",
       "3  2023-07-09 04:49:57  \n",
       "4  2023-07-17 16:47:04  "
      ]
     },
     "execution_count": 2,
     "metadata": {},
     "output_type": "execute_result"
    }
   ],
   "source": [
    "df = pd.read_csv('/kaggle/input/instagram-play-store-reviews/instagram.csv')\n",
    "df = df.head(50000)\n",
    "df.head()"
   ]
  },
  {
   "cell_type": "markdown",
   "id": "d2327be3",
   "metadata": {
    "papermill": {
     "duration": 0.008037,
     "end_time": "2023-08-09T22:01:22.508198",
     "exception": false,
     "start_time": "2023-08-09T22:01:22.500161",
     "status": "completed"
    },
    "tags": []
   },
   "source": [
    "# Shape of dataset"
   ]
  },
  {
   "cell_type": "code",
   "execution_count": 3,
   "id": "153c6017",
   "metadata": {
    "execution": {
     "iopub.execute_input": "2023-08-09T22:01:22.527091Z",
     "iopub.status.busy": "2023-08-09T22:01:22.526611Z",
     "iopub.status.idle": "2023-08-09T22:01:22.532789Z",
     "shell.execute_reply": "2023-08-09T22:01:22.531179Z"
    },
    "papermill": {
     "duration": 0.018396,
     "end_time": "2023-08-09T22:01:22.535495",
     "exception": false,
     "start_time": "2023-08-09T22:01:22.517099",
     "status": "completed"
    },
    "tags": []
   },
   "outputs": [
    {
     "name": "stdout",
     "output_type": "stream",
     "text": [
      "There are 50000 and 3 columns in dataset\n"
     ]
    }
   ],
   "source": [
    "rows, cols = df.shape\n",
    "print(f\"There are {rows} and {cols} columns in dataset\")\n"
   ]
  },
  {
   "cell_type": "markdown",
   "id": "d709ba77",
   "metadata": {
    "papermill": {
     "duration": 0.00844,
     "end_time": "2023-08-09T22:01:22.552465",
     "exception": false,
     "start_time": "2023-08-09T22:01:22.544025",
     "status": "completed"
    },
    "tags": []
   },
   "source": [
    "# Identify and Remove Duplicate data"
   ]
  },
  {
   "cell_type": "code",
   "execution_count": 4,
   "id": "97a2d58d",
   "metadata": {
    "execution": {
     "iopub.execute_input": "2023-08-09T22:01:22.570733Z",
     "iopub.status.busy": "2023-08-09T22:01:22.570306Z",
     "iopub.status.idle": "2023-08-09T22:01:22.710549Z",
     "shell.execute_reply": "2023-08-09T22:01:22.709001Z"
    },
    "papermill": {
     "duration": 0.152485,
     "end_time": "2023-08-09T22:01:22.713285",
     "exception": false,
     "start_time": "2023-08-09T22:01:22.560800",
     "status": "completed"
    },
    "tags": []
   },
   "outputs": [
    {
     "name": "stdout",
     "output_type": "stream",
     "text": [
      "There are 0 duplicate values\n"
     ]
    }
   ],
   "source": [
    "print(f\"There are {df.duplicated().sum()} duplicate values\")\n",
    "df = df.drop_duplicates()"
   ]
  },
  {
   "cell_type": "code",
   "execution_count": 5,
   "id": "e0334488",
   "metadata": {
    "execution": {
     "iopub.execute_input": "2023-08-09T22:01:22.732943Z",
     "iopub.status.busy": "2023-08-09T22:01:22.732526Z",
     "iopub.status.idle": "2023-08-09T22:01:22.741671Z",
     "shell.execute_reply": "2023-08-09T22:01:22.740549Z"
    },
    "papermill": {
     "duration": 0.021681,
     "end_time": "2023-08-09T22:01:22.743884",
     "exception": false,
     "start_time": "2023-08-09T22:01:22.722203",
     "status": "completed"
    },
    "tags": []
   },
   "outputs": [
    {
     "data": {
      "text/plain": [
       "\"The app is good for connecting with friends, family and even potential business partners. However as of recently I've experienced some problems with the messages portion of the app (ex: themes aren't showing up on my end but are present on other person's end). Idk if it has to do with a bug but it happened all of sudden out of nowhere on both of my pages (one private the other public). But besides the occasional bugs and sometimes the app/website being down randomly, I say it's a decent app.\""
      ]
     },
     "execution_count": 5,
     "metadata": {},
     "output_type": "execute_result"
    }
   ],
   "source": [
    "df['review_description'][0]"
   ]
  },
  {
   "cell_type": "markdown",
   "id": "e3b5f2fa",
   "metadata": {
    "papermill": {
     "duration": 0.008528,
     "end_time": "2023-08-09T22:01:22.761127",
     "exception": false,
     "start_time": "2023-08-09T22:01:22.752599",
     "status": "completed"
    },
    "tags": []
   },
   "source": [
    "# Data Cleaning"
   ]
  },
  {
   "cell_type": "code",
   "execution_count": 6,
   "id": "5e1d4c9b",
   "metadata": {
    "execution": {
     "iopub.execute_input": "2023-08-09T22:01:22.780288Z",
     "iopub.status.busy": "2023-08-09T22:01:22.779857Z",
     "iopub.status.idle": "2023-08-09T22:01:56.804749Z",
     "shell.execute_reply": "2023-08-09T22:01:56.803599Z"
    },
    "papermill": {
     "duration": 34.037351,
     "end_time": "2023-08-09T22:01:56.807082",
     "exception": false,
     "start_time": "2023-08-09T22:01:22.769731",
     "status": "completed"
    },
    "tags": []
   },
   "outputs": [],
   "source": [
    "for i in range(len(df['review_description'])):\n",
    "     df['review_description'][i]= re.sub(r\"(@\\[A-Za-z0-9]+)|([^0-9A-Za-z \\t])|(\\w+:\\/\\/\\S+)|^rt|http.+?\", \"\",df['review_description'][i])"
   ]
  },
  {
   "cell_type": "markdown",
   "id": "a1a9f10d",
   "metadata": {
    "papermill": {
     "duration": 0.00807,
     "end_time": "2023-08-09T22:01:56.823907",
     "exception": false,
     "start_time": "2023-08-09T22:01:56.815837",
     "status": "completed"
    },
    "tags": []
   },
   "source": [
    "# Data Description"
   ]
  },
  {
   "cell_type": "code",
   "execution_count": 7,
   "id": "21473a49",
   "metadata": {
    "execution": {
     "iopub.execute_input": "2023-08-09T22:01:56.842922Z",
     "iopub.status.busy": "2023-08-09T22:01:56.842050Z",
     "iopub.status.idle": "2023-08-09T22:01:56.869021Z",
     "shell.execute_reply": "2023-08-09T22:01:56.868079Z"
    },
    "papermill": {
     "duration": 0.039005,
     "end_time": "2023-08-09T22:01:56.871378",
     "exception": false,
     "start_time": "2023-08-09T22:01:56.832373",
     "status": "completed"
    },
    "tags": []
   },
   "outputs": [
    {
     "data": {
      "text/html": [
       "<div>\n",
       "<style scoped>\n",
       "    .dataframe tbody tr th:only-of-type {\n",
       "        vertical-align: middle;\n",
       "    }\n",
       "\n",
       "    .dataframe tbody tr th {\n",
       "        vertical-align: top;\n",
       "    }\n",
       "\n",
       "    .dataframe thead th {\n",
       "        text-align: right;\n",
       "    }\n",
       "</style>\n",
       "<table border=\"1\" class=\"dataframe\">\n",
       "  <thead>\n",
       "    <tr style=\"text-align: right;\">\n",
       "      <th></th>\n",
       "      <th>count</th>\n",
       "      <th>mean</th>\n",
       "      <th>std</th>\n",
       "      <th>min</th>\n",
       "      <th>25%</th>\n",
       "      <th>50%</th>\n",
       "      <th>75%</th>\n",
       "      <th>max</th>\n",
       "    </tr>\n",
       "  </thead>\n",
       "  <tbody>\n",
       "    <tr>\n",
       "      <th>rating</th>\n",
       "      <td>50000.0</td>\n",
       "      <td>2.23468</td>\n",
       "      <td>1.474845</td>\n",
       "      <td>1.0</td>\n",
       "      <td>1.0</td>\n",
       "      <td>2.0</td>\n",
       "      <td>3.0</td>\n",
       "      <td>5.0</td>\n",
       "    </tr>\n",
       "  </tbody>\n",
       "</table>\n",
       "</div>"
      ],
      "text/plain": [
       "          count     mean       std  min  25%  50%  75%  max\n",
       "rating  50000.0  2.23468  1.474845  1.0  1.0  2.0  3.0  5.0"
      ]
     },
     "execution_count": 7,
     "metadata": {},
     "output_type": "execute_result"
    }
   ],
   "source": [
    "df.describe().transpose()"
   ]
  },
  {
   "cell_type": "code",
   "execution_count": 8,
   "id": "8be40b3e",
   "metadata": {
    "execution": {
     "iopub.execute_input": "2023-08-09T22:01:56.890923Z",
     "iopub.status.busy": "2023-08-09T22:01:56.890177Z",
     "iopub.status.idle": "2023-08-09T22:01:56.924505Z",
     "shell.execute_reply": "2023-08-09T22:01:56.923034Z"
    },
    "papermill": {
     "duration": 0.047071,
     "end_time": "2023-08-09T22:01:56.927176",
     "exception": false,
     "start_time": "2023-08-09T22:01:56.880105",
     "status": "completed"
    },
    "tags": []
   },
   "outputs": [
    {
     "name": "stdout",
     "output_type": "stream",
     "text": [
      "<class 'pandas.core.frame.DataFrame'>\n",
      "Int64Index: 50000 entries, 0 to 49999\n",
      "Data columns (total 3 columns):\n",
      " #   Column              Non-Null Count  Dtype \n",
      "---  ------              --------------  ----- \n",
      " 0   review_description  50000 non-null  object\n",
      " 1   rating              50000 non-null  int64 \n",
      " 2   review_date         50000 non-null  object\n",
      "dtypes: int64(1), object(2)\n",
      "memory usage: 2.5+ MB\n"
     ]
    }
   ],
   "source": [
    "df.info()"
   ]
  },
  {
   "cell_type": "markdown",
   "id": "1d3af8c8",
   "metadata": {
    "papermill": {
     "duration": 0.008259,
     "end_time": "2023-08-09T22:01:56.944125",
     "exception": false,
     "start_time": "2023-08-09T22:01:56.935866",
     "status": "completed"
    },
    "tags": []
   },
   "source": [
    "# Identify Null values"
   ]
  },
  {
   "cell_type": "code",
   "execution_count": 9,
   "id": "7ee0b1dd",
   "metadata": {
    "execution": {
     "iopub.execute_input": "2023-08-09T22:01:56.964643Z",
     "iopub.status.busy": "2023-08-09T22:01:56.963976Z",
     "iopub.status.idle": "2023-08-09T22:01:56.990300Z",
     "shell.execute_reply": "2023-08-09T22:01:56.989417Z"
    },
    "papermill": {
     "duration": 0.038283,
     "end_time": "2023-08-09T22:01:56.992390",
     "exception": false,
     "start_time": "2023-08-09T22:01:56.954107",
     "status": "completed"
    },
    "tags": []
   },
   "outputs": [
    {
     "data": {
      "text/plain": [
       "review_description    0\n",
       "rating                0\n",
       "review_date           0\n",
       "dtype: int64"
      ]
     },
     "execution_count": 9,
     "metadata": {},
     "output_type": "execute_result"
    }
   ],
   "source": [
    "df.isna().sum()"
   ]
  },
  {
   "cell_type": "markdown",
   "id": "b992cac9",
   "metadata": {
    "papermill": {
     "duration": 0.008755,
     "end_time": "2023-08-09T22:01:57.011165",
     "exception": false,
     "start_time": "2023-08-09T22:01:57.002410",
     "status": "completed"
    },
    "tags": []
   },
   "source": [
    "# Function to classify Sentiment Score"
   ]
  },
  {
   "cell_type": "code",
   "execution_count": 10,
   "id": "36354ed0",
   "metadata": {
    "execution": {
     "iopub.execute_input": "2023-08-09T22:01:57.031518Z",
     "iopub.status.busy": "2023-08-09T22:01:57.030550Z",
     "iopub.status.idle": "2023-08-09T22:01:57.036509Z",
     "shell.execute_reply": "2023-08-09T22:01:57.035231Z"
    },
    "papermill": {
     "duration": 0.018132,
     "end_time": "2023-08-09T22:01:57.038846",
     "exception": false,
     "start_time": "2023-08-09T22:01:57.020714",
     "status": "completed"
    },
    "tags": []
   },
   "outputs": [],
   "source": [
    "def analyze(x):\n",
    "        if(x>=0.5):\n",
    "            return \"Positive\"\n",
    "        elif x<=-0.5:\n",
    "            return \"Negative\"\n",
    "        else:\n",
    "            return \"Neutral\""
   ]
  },
  {
   "cell_type": "markdown",
   "id": "12806625",
   "metadata": {
    "papermill": {
     "duration": 0.008352,
     "end_time": "2023-08-09T22:01:57.056156",
     "exception": false,
     "start_time": "2023-08-09T22:01:57.047804",
     "status": "completed"
    },
    "tags": []
   },
   "source": [
    "# Function to calculate sentiment score using TextBlob"
   ]
  },
  {
   "cell_type": "code",
   "execution_count": 11,
   "id": "0776d0a4",
   "metadata": {
    "execution": {
     "iopub.execute_input": "2023-08-09T22:01:57.075210Z",
     "iopub.status.busy": "2023-08-09T22:01:57.074768Z",
     "iopub.status.idle": "2023-08-09T22:01:57.080127Z",
     "shell.execute_reply": "2023-08-09T22:01:57.078968Z"
    },
    "papermill": {
     "duration": 0.017634,
     "end_time": "2023-08-09T22:01:57.082493",
     "exception": false,
     "start_time": "2023-08-09T22:01:57.064859",
     "status": "completed"
    },
    "tags": []
   },
   "outputs": [],
   "source": [
    "def score(x):\n",
    "        blob = TextBlob(x)\n",
    "        return blob.sentiment.polarity"
   ]
  },
  {
   "cell_type": "code",
   "execution_count": 12,
   "id": "28fc3291",
   "metadata": {
    "execution": {
     "iopub.execute_input": "2023-08-09T22:01:57.101666Z",
     "iopub.status.busy": "2023-08-09T22:01:57.101240Z",
     "iopub.status.idle": "2023-08-09T22:02:15.217129Z",
     "shell.execute_reply": "2023-08-09T22:02:15.215996Z"
    },
    "papermill": {
     "duration": 18.12824,
     "end_time": "2023-08-09T22:02:15.219571",
     "exception": false,
     "start_time": "2023-08-09T22:01:57.091331",
     "status": "completed"
    },
    "tags": []
   },
   "outputs": [],
   "source": [
    "df['score']=df['review_description'].apply(score)\n",
    "df['analysis']=df['score'].apply(analyze)"
   ]
  },
  {
   "cell_type": "code",
   "execution_count": 13,
   "id": "90fe88f0",
   "metadata": {
    "execution": {
     "iopub.execute_input": "2023-08-09T22:02:15.239544Z",
     "iopub.status.busy": "2023-08-09T22:02:15.239175Z",
     "iopub.status.idle": "2023-08-09T22:02:15.250487Z",
     "shell.execute_reply": "2023-08-09T22:02:15.249545Z"
    },
    "papermill": {
     "duration": 0.023763,
     "end_time": "2023-08-09T22:02:15.252650",
     "exception": false,
     "start_time": "2023-08-09T22:02:15.228887",
     "status": "completed"
    },
    "tags": []
   },
   "outputs": [
    {
     "data": {
      "text/html": [
       "<div>\n",
       "<style scoped>\n",
       "    .dataframe tbody tr th:only-of-type {\n",
       "        vertical-align: middle;\n",
       "    }\n",
       "\n",
       "    .dataframe tbody tr th {\n",
       "        vertical-align: top;\n",
       "    }\n",
       "\n",
       "    .dataframe thead th {\n",
       "        text-align: right;\n",
       "    }\n",
       "</style>\n",
       "<table border=\"1\" class=\"dataframe\">\n",
       "  <thead>\n",
       "    <tr style=\"text-align: right;\">\n",
       "      <th></th>\n",
       "      <th>review_description</th>\n",
       "      <th>rating</th>\n",
       "      <th>review_date</th>\n",
       "      <th>score</th>\n",
       "      <th>analysis</th>\n",
       "    </tr>\n",
       "  </thead>\n",
       "  <tbody>\n",
       "    <tr>\n",
       "      <th>0</th>\n",
       "      <td>The app is good for connecting with friends fa...</td>\n",
       "      <td>3</td>\n",
       "      <td>2023-07-11 23:57:07</td>\n",
       "      <td>0.054365</td>\n",
       "      <td>Neutral</td>\n",
       "    </tr>\n",
       "    <tr>\n",
       "      <th>1</th>\n",
       "      <td>Used to be my favorite social media app but im...</td>\n",
       "      <td>2</td>\n",
       "      <td>2023-07-22 21:37:09</td>\n",
       "      <td>-0.138148</td>\n",
       "      <td>Neutral</td>\n",
       "    </tr>\n",
       "    <tr>\n",
       "      <th>2</th>\n",
       "      <td>Instagram is the best of all the social media ...</td>\n",
       "      <td>5</td>\n",
       "      <td>2023-07-25 03:24:58</td>\n",
       "      <td>0.310648</td>\n",
       "      <td>Neutral</td>\n",
       "    </tr>\n",
       "    <tr>\n",
       "      <th>3</th>\n",
       "      <td>I love this app but as of late I have been hav...</td>\n",
       "      <td>2</td>\n",
       "      <td>2023-07-09 04:49:57</td>\n",
       "      <td>0.087500</td>\n",
       "      <td>Neutral</td>\n",
       "    </tr>\n",
       "    <tr>\n",
       "      <th>4</th>\n",
       "      <td>Used to be a great app but there are so many m...</td>\n",
       "      <td>3</td>\n",
       "      <td>2023-07-17 16:47:04</td>\n",
       "      <td>0.109686</td>\n",
       "      <td>Neutral</td>\n",
       "    </tr>\n",
       "  </tbody>\n",
       "</table>\n",
       "</div>"
      ],
      "text/plain": [
       "                                  review_description  rating  \\\n",
       "0  The app is good for connecting with friends fa...       3   \n",
       "1  Used to be my favorite social media app but im...       2   \n",
       "2  Instagram is the best of all the social media ...       5   \n",
       "3  I love this app but as of late I have been hav...       2   \n",
       "4  Used to be a great app but there are so many m...       3   \n",
       "\n",
       "           review_date     score analysis  \n",
       "0  2023-07-11 23:57:07  0.054365  Neutral  \n",
       "1  2023-07-22 21:37:09 -0.138148  Neutral  \n",
       "2  2023-07-25 03:24:58  0.310648  Neutral  \n",
       "3  2023-07-09 04:49:57  0.087500  Neutral  \n",
       "4  2023-07-17 16:47:04  0.109686  Neutral  "
      ]
     },
     "execution_count": 13,
     "metadata": {},
     "output_type": "execute_result"
    }
   ],
   "source": [
    "df.head()"
   ]
  },
  {
   "cell_type": "code",
   "execution_count": 14,
   "id": "d4085bf0",
   "metadata": {
    "execution": {
     "iopub.execute_input": "2023-08-09T22:02:15.272107Z",
     "iopub.status.busy": "2023-08-09T22:02:15.271448Z",
     "iopub.status.idle": "2023-08-09T22:02:15.281261Z",
     "shell.execute_reply": "2023-08-09T22:02:15.280318Z"
    },
    "papermill": {
     "duration": 0.021748,
     "end_time": "2023-08-09T22:02:15.283197",
     "exception": false,
     "start_time": "2023-08-09T22:02:15.261449",
     "status": "completed"
    },
    "tags": []
   },
   "outputs": [
    {
     "data": {
      "text/plain": [
       "array(['Neutral', 'Negative', 'Positive'], dtype=object)"
      ]
     },
     "execution_count": 14,
     "metadata": {},
     "output_type": "execute_result"
    }
   ],
   "source": [
    "df['analysis'].unique()"
   ]
  },
  {
   "cell_type": "code",
   "execution_count": 15,
   "id": "f612be57",
   "metadata": {
    "execution": {
     "iopub.execute_input": "2023-08-09T22:02:15.302844Z",
     "iopub.status.busy": "2023-08-09T22:02:15.302486Z",
     "iopub.status.idle": "2023-08-09T22:02:15.311018Z",
     "shell.execute_reply": "2023-08-09T22:02:15.309937Z"
    },
    "papermill": {
     "duration": 0.020739,
     "end_time": "2023-08-09T22:02:15.313079",
     "exception": false,
     "start_time": "2023-08-09T22:02:15.292340",
     "status": "completed"
    },
    "tags": []
   },
   "outputs": [
    {
     "data": {
      "text/plain": [
       "1    24569\n",
       "2     7532\n",
       "5     6915\n",
       "3     6410\n",
       "4     4574\n",
       "Name: rating, dtype: int64"
      ]
     },
     "execution_count": 15,
     "metadata": {},
     "output_type": "execute_result"
    }
   ],
   "source": [
    "df[\"rating\"].value_counts()"
   ]
  },
  {
   "cell_type": "code",
   "execution_count": 16,
   "id": "e734986f",
   "metadata": {
    "execution": {
     "iopub.execute_input": "2023-08-09T22:02:15.334597Z",
     "iopub.status.busy": "2023-08-09T22:02:15.333840Z",
     "iopub.status.idle": "2023-08-09T22:03:38.119545Z",
     "shell.execute_reply": "2023-08-09T22:03:38.118561Z"
    },
    "papermill": {
     "duration": 82.809305,
     "end_time": "2023-08-09T22:03:38.131570",
     "exception": false,
     "start_time": "2023-08-09T22:02:15.322265",
     "status": "completed"
    },
    "tags": []
   },
   "outputs": [
    {
     "data": {
      "text/plain": [
       "<BarContainer object of 50000 artists>"
      ]
     },
     "execution_count": 16,
     "metadata": {},
     "output_type": "execute_result"
    },
    {
     "data": {
      "image/png": "[encoded data removed]",
      "text/plain": [
       "<Figure size 640x480 with 1 Axes>"
      ]
     },
     "metadata": {},
     "output_type": "display_data"
    }
   ],
   "source": [
    "# Plotting a barplot to check relation between analysis and rating.\n",
    "plt.bar(df['analysis'],df['rating'],color ='r')"
   ]
  },
  {
   "cell_type": "code",
   "execution_count": 17,
   "id": "bc1323ca",
   "metadata": {
    "execution": {
     "iopub.execute_input": "2023-08-09T22:03:38.151916Z",
     "iopub.status.busy": "2023-08-09T22:03:38.151253Z",
     "iopub.status.idle": "2023-08-09T22:03:38.174623Z",
     "shell.execute_reply": "2023-08-09T22:03:38.173566Z"
    },
    "papermill": {
     "duration": 0.036617,
     "end_time": "2023-08-09T22:03:38.177314",
     "exception": false,
     "start_time": "2023-08-09T22:03:38.140697",
     "status": "completed"
    },
    "tags": []
   },
   "outputs": [
    {
     "data": {
      "text/html": [
       "<div>\n",
       "<style scoped>\n",
       "    .dataframe tbody tr th:only-of-type {\n",
       "        vertical-align: middle;\n",
       "    }\n",
       "\n",
       "    .dataframe tbody tr th {\n",
       "        vertical-align: top;\n",
       "    }\n",
       "\n",
       "    .dataframe thead th {\n",
       "        text-align: right;\n",
       "    }\n",
       "</style>\n",
       "<table border=\"1\" class=\"dataframe\">\n",
       "  <thead>\n",
       "    <tr style=\"text-align: right;\">\n",
       "      <th></th>\n",
       "      <th>count</th>\n",
       "      <th>mean</th>\n",
       "      <th>std</th>\n",
       "      <th>min</th>\n",
       "      <th>25%</th>\n",
       "      <th>50%</th>\n",
       "      <th>75%</th>\n",
       "      <th>max</th>\n",
       "    </tr>\n",
       "  </thead>\n",
       "  <tbody>\n",
       "    <tr>\n",
       "      <th>rating</th>\n",
       "      <td>50000.0</td>\n",
       "      <td>2.234680</td>\n",
       "      <td>1.474845</td>\n",
       "      <td>1.0</td>\n",
       "      <td>1.00000</td>\n",
       "      <td>2.000</td>\n",
       "      <td>3.000000</td>\n",
       "      <td>5.0</td>\n",
       "    </tr>\n",
       "    <tr>\n",
       "      <th>score</th>\n",
       "      <td>50000.0</td>\n",
       "      <td>0.068158</td>\n",
       "      <td>0.290136</td>\n",
       "      <td>-1.0</td>\n",
       "      <td>-0.07381</td>\n",
       "      <td>0.025</td>\n",
       "      <td>0.215852</td>\n",
       "      <td>1.0</td>\n",
       "    </tr>\n",
       "  </tbody>\n",
       "</table>\n",
       "</div>"
      ],
      "text/plain": [
       "          count      mean       std  min      25%    50%       75%  max\n",
       "rating  50000.0  2.234680  1.474845  1.0  1.00000  2.000  3.000000  5.0\n",
       "score   50000.0  0.068158  0.290136 -1.0 -0.07381  0.025  0.215852  1.0"
      ]
     },
     "execution_count": 17,
     "metadata": {},
     "output_type": "execute_result"
    }
   ],
   "source": [
    "df.describe().T"
   ]
  },
  {
   "cell_type": "code",
   "execution_count": 18,
   "id": "8d031fc6",
   "metadata": {
    "execution": {
     "iopub.execute_input": "2023-08-09T22:03:38.198444Z",
     "iopub.status.busy": "2023-08-09T22:03:38.197654Z",
     "iopub.status.idle": "2023-08-09T22:03:38.301563Z",
     "shell.execute_reply": "2023-08-09T22:03:38.300526Z"
    },
    "papermill": {
     "duration": 0.11717,
     "end_time": "2023-08-09T22:03:38.303925",
     "exception": false,
     "start_time": "2023-08-09T22:03:38.186755",
     "status": "completed"
    },
    "tags": []
   },
   "outputs": [
    {
     "data": {
      "text/html": [
       "<div>\n",
       "<style scoped>\n",
       "    .dataframe tbody tr th:only-of-type {\n",
       "        vertical-align: middle;\n",
       "    }\n",
       "\n",
       "    .dataframe tbody tr th {\n",
       "        vertical-align: top;\n",
       "    }\n",
       "\n",
       "    .dataframe thead th {\n",
       "        text-align: right;\n",
       "    }\n",
       "</style>\n",
       "<table border=\"1\" class=\"dataframe\">\n",
       "  <thead>\n",
       "    <tr style=\"text-align: right;\">\n",
       "      <th></th>\n",
       "      <th>count</th>\n",
       "      <th>unique</th>\n",
       "      <th>top</th>\n",
       "      <th>freq</th>\n",
       "    </tr>\n",
       "  </thead>\n",
       "  <tbody>\n",
       "    <tr>\n",
       "      <th>review_description</th>\n",
       "      <td>50000</td>\n",
       "      <td>49971</td>\n",
       "      <td>Not working properly</td>\n",
       "      <td>7</td>\n",
       "    </tr>\n",
       "    <tr>\n",
       "      <th>review_date</th>\n",
       "      <td>50000</td>\n",
       "      <td>49883</td>\n",
       "      <td>2023-07-11 15:07:07</td>\n",
       "      <td>2</td>\n",
       "    </tr>\n",
       "    <tr>\n",
       "      <th>analysis</th>\n",
       "      <td>50000</td>\n",
       "      <td>3</td>\n",
       "      <td>Neutral</td>\n",
       "      <td>43753</td>\n",
       "    </tr>\n",
       "  </tbody>\n",
       "</table>\n",
       "</div>"
      ],
      "text/plain": [
       "                    count unique                   top   freq\n",
       "review_description  50000  49971  Not working properly      7\n",
       "review_date         50000  49883   2023-07-11 15:07:07      2\n",
       "analysis            50000      3               Neutral  43753"
      ]
     },
     "execution_count": 18,
     "metadata": {},
     "output_type": "execute_result"
    }
   ],
   "source": [
    "df.describe(include='object').T"
   ]
  },
  {
   "cell_type": "markdown",
   "id": "eb119935",
   "metadata": {
    "papermill": {
     "duration": 0.009477,
     "end_time": "2023-08-09T22:03:38.323216",
     "exception": false,
     "start_time": "2023-08-09T22:03:38.313739",
     "status": "completed"
    },
    "tags": []
   },
   "source": [
    "# Define a rating function to classify rating."
   ]
  },
  {
   "cell_type": "code",
   "execution_count": 19,
   "id": "b296ca13",
   "metadata": {
    "execution": {
     "iopub.execute_input": "2023-08-09T22:03:38.345069Z",
     "iopub.status.busy": "2023-08-09T22:03:38.344050Z",
     "iopub.status.idle": "2023-08-09T22:03:38.349111Z",
     "shell.execute_reply": "2023-08-09T22:03:38.348263Z"
    },
    "papermill": {
     "duration": 0.018141,
     "end_time": "2023-08-09T22:03:38.351199",
     "exception": false,
     "start_time": "2023-08-09T22:03:38.333058",
     "status": "completed"
    },
    "tags": []
   },
   "outputs": [],
   "source": [
    "def rating(x):\n",
    "    if x>=8 and x<=10:\n",
    "        return 'Positive'\n",
    "    elif x>=4 and x<=7:\n",
    "         return 'Neutral'\n",
    "    else:\n",
    "         return 'Negative'"
   ]
  },
  {
   "cell_type": "code",
   "execution_count": 20,
   "id": "65a775ca",
   "metadata": {
    "execution": {
     "iopub.execute_input": "2023-08-09T22:03:38.373066Z",
     "iopub.status.busy": "2023-08-09T22:03:38.372643Z",
     "iopub.status.idle": "2023-08-09T22:03:38.391031Z",
     "shell.execute_reply": "2023-08-09T22:03:38.389747Z"
    },
    "papermill": {
     "duration": 0.032577,
     "end_time": "2023-08-09T22:03:38.393602",
     "exception": false,
     "start_time": "2023-08-09T22:03:38.361025",
     "status": "completed"
    },
    "tags": []
   },
   "outputs": [],
   "source": [
    "df['rating_analysis']=df['rating'].apply(rating)"
   ]
  },
  {
   "cell_type": "code",
   "execution_count": 21,
   "id": "3a19f8a1",
   "metadata": {
    "execution": {
     "iopub.execute_input": "2023-08-09T22:03:38.414773Z",
     "iopub.status.busy": "2023-08-09T22:03:38.414385Z",
     "iopub.status.idle": "2023-08-09T22:03:38.420323Z",
     "shell.execute_reply": "2023-08-09T22:03:38.419360Z"
    },
    "papermill": {
     "duration": 0.019161,
     "end_time": "2023-08-09T22:03:38.422576",
     "exception": false,
     "start_time": "2023-08-09T22:03:38.403415",
     "status": "completed"
    },
    "tags": []
   },
   "outputs": [],
   "source": [
    "df['final_rating'] = 'Positive'"
   ]
  },
  {
   "cell_type": "code",
   "execution_count": 22,
   "id": "16ae8e66",
   "metadata": {
    "execution": {
     "iopub.execute_input": "2023-08-09T22:03:38.444194Z",
     "iopub.status.busy": "2023-08-09T22:03:38.443755Z",
     "iopub.status.idle": "2023-08-09T22:03:55.785873Z",
     "shell.execute_reply": "2023-08-09T22:03:55.784715Z"
    },
    "papermill": {
     "duration": 17.356132,
     "end_time": "2023-08-09T22:03:55.788611",
     "exception": false,
     "start_time": "2023-08-09T22:03:38.432479",
     "status": "completed"
    },
    "tags": []
   },
   "outputs": [],
   "source": [
    "for i in range(len(df)):\n",
    "    if (df['analysis'][i]=='Positive' and df['rating_analysis'][i] == 'Positive'):\n",
    "        df['final_rating'][i] = 'Positive'\n",
    "        \n",
    "    elif (df['analysis'][i] == 'Positive' and df['rating_analysis'][i] == 'Neutral')or (df['analysis'][i] == 'Neutral' and df['rating_analysis'][i] == 'Positive'):\n",
    "        df['final_rating'][i] = 'Positive'\n",
    "        \n",
    "    elif (df['analysis'][i] == 'Negative' and df['rating_analysis'][i] == 'Neutral')or (df['analysis'][i] == 'Neutral' and df['rating_analysis'][i] == 'Negative'):\n",
    "        df['final_rating'][i] = 'Neutral'\n",
    "        \n",
    "    elif (df['analysis'][i] == 'Neutral' and df['rating_analysis'][i] == 'Neutral'):\n",
    "        df['final_rating'][i] = 'Neutral'\n",
    "   \n",
    "    elif (df['analysis'][i] == 'Negative' and df['rating_analysis'][i] == 'Negative'):\n",
    "        df['final_rating'][i] = 'Negative'\n",
    "        \n",
    "    else:\n",
    "        df['final_rating'][i] = 'Neutral'"
   ]
  },
  {
   "cell_type": "code",
   "execution_count": 23,
   "id": "f7076928",
   "metadata": {
    "execution": {
     "iopub.execute_input": "2023-08-09T22:03:55.810878Z",
     "iopub.status.busy": "2023-08-09T22:03:55.810467Z",
     "iopub.status.idle": "2023-08-09T22:03:55.824151Z",
     "shell.execute_reply": "2023-08-09T22:03:55.822998Z"
    },
    "papermill": {
     "duration": 0.027954,
     "end_time": "2023-08-09T22:03:55.826863",
     "exception": false,
     "start_time": "2023-08-09T22:03:55.798909",
     "status": "completed"
    },
    "tags": []
   },
   "outputs": [
    {
     "data": {
      "text/html": [
       "<div>\n",
       "<style scoped>\n",
       "    .dataframe tbody tr th:only-of-type {\n",
       "        vertical-align: middle;\n",
       "    }\n",
       "\n",
       "    .dataframe tbody tr th {\n",
       "        vertical-align: top;\n",
       "    }\n",
       "\n",
       "    .dataframe thead th {\n",
       "        text-align: right;\n",
       "    }\n",
       "</style>\n",
       "<table border=\"1\" class=\"dataframe\">\n",
       "  <thead>\n",
       "    <tr style=\"text-align: right;\">\n",
       "      <th></th>\n",
       "      <th>review_description</th>\n",
       "      <th>rating</th>\n",
       "      <th>review_date</th>\n",
       "      <th>score</th>\n",
       "      <th>analysis</th>\n",
       "      <th>rating_analysis</th>\n",
       "      <th>final_rating</th>\n",
       "    </tr>\n",
       "  </thead>\n",
       "  <tbody>\n",
       "    <tr>\n",
       "      <th>0</th>\n",
       "      <td>The app is good for connecting with friends fa...</td>\n",
       "      <td>3</td>\n",
       "      <td>2023-07-11 23:57:07</td>\n",
       "      <td>0.054365</td>\n",
       "      <td>Neutral</td>\n",
       "      <td>Negative</td>\n",
       "      <td>Neutral</td>\n",
       "    </tr>\n",
       "    <tr>\n",
       "      <th>1</th>\n",
       "      <td>Used to be my favorite social media app but im...</td>\n",
       "      <td>2</td>\n",
       "      <td>2023-07-22 21:37:09</td>\n",
       "      <td>-0.138148</td>\n",
       "      <td>Neutral</td>\n",
       "      <td>Negative</td>\n",
       "      <td>Neutral</td>\n",
       "    </tr>\n",
       "    <tr>\n",
       "      <th>2</th>\n",
       "      <td>Instagram is the best of all the social media ...</td>\n",
       "      <td>5</td>\n",
       "      <td>2023-07-25 03:24:58</td>\n",
       "      <td>0.310648</td>\n",
       "      <td>Neutral</td>\n",
       "      <td>Neutral</td>\n",
       "      <td>Neutral</td>\n",
       "    </tr>\n",
       "    <tr>\n",
       "      <th>3</th>\n",
       "      <td>I love this app but as of late I have been hav...</td>\n",
       "      <td>2</td>\n",
       "      <td>2023-07-09 04:49:57</td>\n",
       "      <td>0.087500</td>\n",
       "      <td>Neutral</td>\n",
       "      <td>Negative</td>\n",
       "      <td>Neutral</td>\n",
       "    </tr>\n",
       "    <tr>\n",
       "      <th>4</th>\n",
       "      <td>Used to be a great app but there are so many m...</td>\n",
       "      <td>3</td>\n",
       "      <td>2023-07-17 16:47:04</td>\n",
       "      <td>0.109686</td>\n",
       "      <td>Neutral</td>\n",
       "      <td>Negative</td>\n",
       "      <td>Neutral</td>\n",
       "    </tr>\n",
       "  </tbody>\n",
       "</table>\n",
       "</div>"
      ],
      "text/plain": [
       "                                  review_description  rating  \\\n",
       "0  The app is good for connecting with friends fa...       3   \n",
       "1  Used to be my favorite social media app but im...       2   \n",
       "2  Instagram is the best of all the social media ...       5   \n",
       "3  I love this app but as of late I have been hav...       2   \n",
       "4  Used to be a great app but there are so many m...       3   \n",
       "\n",
       "           review_date     score analysis rating_analysis final_rating  \n",
       "0  2023-07-11 23:57:07  0.054365  Neutral        Negative      Neutral  \n",
       "1  2023-07-22 21:37:09 -0.138148  Neutral        Negative      Neutral  \n",
       "2  2023-07-25 03:24:58  0.310648  Neutral         Neutral      Neutral  \n",
       "3  2023-07-09 04:49:57  0.087500  Neutral        Negative      Neutral  \n",
       "4  2023-07-17 16:47:04  0.109686  Neutral        Negative      Neutral  "
      ]
     },
     "execution_count": 23,
     "metadata": {},
     "output_type": "execute_result"
    }
   ],
   "source": [
    "df.head()"
   ]
  },
  {
   "cell_type": "code",
   "execution_count": 24,
   "id": "92ceaeeb",
   "metadata": {
    "execution": {
     "iopub.execute_input": "2023-08-09T22:03:55.849408Z",
     "iopub.status.busy": "2023-08-09T22:03:55.848767Z",
     "iopub.status.idle": "2023-08-09T22:03:55.863491Z",
     "shell.execute_reply": "2023-08-09T22:03:55.862304Z"
    },
    "papermill": {
     "duration": 0.028387,
     "end_time": "2023-08-09T22:03:55.865700",
     "exception": false,
     "start_time": "2023-08-09T22:03:55.837313",
     "status": "completed"
    },
    "tags": []
   },
   "outputs": [
    {
     "data": {
      "text/html": [
       "<div>\n",
       "<style scoped>\n",
       "    .dataframe tbody tr th:only-of-type {\n",
       "        vertical-align: middle;\n",
       "    }\n",
       "\n",
       "    .dataframe tbody tr th {\n",
       "        vertical-align: top;\n",
       "    }\n",
       "\n",
       "    .dataframe thead th {\n",
       "        text-align: right;\n",
       "    }\n",
       "</style>\n",
       "<table border=\"1\" class=\"dataframe\">\n",
       "  <thead>\n",
       "    <tr style=\"text-align: right;\">\n",
       "      <th></th>\n",
       "      <th>review_description</th>\n",
       "      <th>rating</th>\n",
       "      <th>review_date</th>\n",
       "      <th>score</th>\n",
       "      <th>analysis</th>\n",
       "      <th>rating_analysis</th>\n",
       "      <th>final_rating</th>\n",
       "    </tr>\n",
       "  </thead>\n",
       "  <tbody>\n",
       "    <tr>\n",
       "      <th>49995</th>\n",
       "      <td>App is getting crash every time I watch insta ...</td>\n",
       "      <td>1</td>\n",
       "      <td>2023-06-22 07:04:01</td>\n",
       "      <td>0.000000</td>\n",
       "      <td>Neutral</td>\n",
       "      <td>Negative</td>\n",
       "      <td>Neutral</td>\n",
       "    </tr>\n",
       "    <tr>\n",
       "      <th>49996</th>\n",
       "      <td>The lastest update wont let me see ANY picture...</td>\n",
       "      <td>1</td>\n",
       "      <td>2019-10-25 03:05:16</td>\n",
       "      <td>0.377778</td>\n",
       "      <td>Neutral</td>\n",
       "      <td>Negative</td>\n",
       "      <td>Neutral</td>\n",
       "    </tr>\n",
       "    <tr>\n",
       "      <th>49997</th>\n",
       "      <td>Really like instagram But recently the app has...</td>\n",
       "      <td>1</td>\n",
       "      <td>2019-11-14 05:39:21</td>\n",
       "      <td>0.040000</td>\n",
       "      <td>Neutral</td>\n",
       "      <td>Negative</td>\n",
       "      <td>Neutral</td>\n",
       "    </tr>\n",
       "    <tr>\n",
       "      <th>49998</th>\n",
       "      <td>I dont know why but a few days ago it just com...</td>\n",
       "      <td>3</td>\n",
       "      <td>2022-06-29 18:06:12</td>\n",
       "      <td>-0.088889</td>\n",
       "      <td>Neutral</td>\n",
       "      <td>Negative</td>\n",
       "      <td>Neutral</td>\n",
       "    </tr>\n",
       "    <tr>\n",
       "      <th>49999</th>\n",
       "      <td>App has been shutting me out of one of my acco...</td>\n",
       "      <td>1</td>\n",
       "      <td>2022-08-13 19:06:43</td>\n",
       "      <td>-0.037727</td>\n",
       "      <td>Neutral</td>\n",
       "      <td>Negative</td>\n",
       "      <td>Neutral</td>\n",
       "    </tr>\n",
       "  </tbody>\n",
       "</table>\n",
       "</div>"
      ],
      "text/plain": [
       "                                      review_description  rating  \\\n",
       "49995  App is getting crash every time I watch insta ...       1   \n",
       "49996  The lastest update wont let me see ANY picture...       1   \n",
       "49997  Really like instagram But recently the app has...       1   \n",
       "49998  I dont know why but a few days ago it just com...       3   \n",
       "49999  App has been shutting me out of one of my acco...       1   \n",
       "\n",
       "               review_date     score analysis rating_analysis final_rating  \n",
       "49995  2023-06-22 07:04:01  0.000000  Neutral        Negative      Neutral  \n",
       "49996  2019-10-25 03:05:16  0.377778  Neutral        Negative      Neutral  \n",
       "49997  2019-11-14 05:39:21  0.040000  Neutral        Negative      Neutral  \n",
       "49998  2022-06-29 18:06:12 -0.088889  Neutral        Negative      Neutral  \n",
       "49999  2022-08-13 19:06:43 -0.037727  Neutral        Negative      Neutral  "
      ]
     },
     "execution_count": 24,
     "metadata": {},
     "output_type": "execute_result"
    }
   ],
   "source": [
    "df.tail()"
   ]
  },
  {
   "cell_type": "code",
   "execution_count": 25,
   "id": "145a881d",
   "metadata": {
    "execution": {
     "iopub.execute_input": "2023-08-09T22:03:55.887866Z",
     "iopub.status.busy": "2023-08-09T22:03:55.887490Z",
     "iopub.status.idle": "2023-08-09T22:03:55.896323Z",
     "shell.execute_reply": "2023-08-09T22:03:55.895379Z"
    },
    "papermill": {
     "duration": 0.022644,
     "end_time": "2023-08-09T22:03:55.898700",
     "exception": false,
     "start_time": "2023-08-09T22:03:55.876056",
     "status": "completed"
    },
    "tags": []
   },
   "outputs": [
    {
     "data": {
      "text/plain": [
       "array(['Neutral', 'Negative', 'Positive'], dtype=object)"
      ]
     },
     "execution_count": 25,
     "metadata": {},
     "output_type": "execute_result"
    }
   ],
   "source": [
    "df['final_rating'].unique()"
   ]
  },
  {
   "cell_type": "code",
   "execution_count": 26,
   "id": "eb425474",
   "metadata": {
    "execution": {
     "iopub.execute_input": "2023-08-09T22:03:55.921655Z",
     "iopub.status.busy": "2023-08-09T22:03:55.921227Z",
     "iopub.status.idle": "2023-08-09T22:03:56.164205Z",
     "shell.execute_reply": "2023-08-09T22:03:56.162966Z"
    },
    "papermill": {
     "duration": 0.257345,
     "end_time": "2023-08-09T22:03:56.166751",
     "exception": false,
     "start_time": "2023-08-09T22:03:55.909406",
     "status": "completed"
    },
    "tags": []
   },
   "outputs": [
    {
     "data": {
      "text/plain": [
       "<Axes: xlabel='final_rating', ylabel='count'>"
      ]
     },
     "execution_count": 26,
     "metadata": {},
     "output_type": "execute_result"
    },
    {
     "data": {
      "image/png": "[encoded data removed]",
      "text/plain": [
       "<Figure size 640x480 with 1 Axes>"
      ]
     },
     "metadata": {},
     "output_type": "display_data"
    }
   ],
   "source": [
    "sns.countplot(x='final_rating',data =df)"
   ]
  },
  {
   "cell_type": "markdown",
   "id": "9c7c85b8",
   "metadata": {
    "papermill": {
     "duration": 0.010438,
     "end_time": "2023-08-09T22:03:56.188074",
     "exception": false,
     "start_time": "2023-08-09T22:03:56.177636",
     "status": "completed"
    },
    "tags": []
   },
   "source": [
    "# According to analysis, as per public reviews, their response on this app is neutral."
   ]
  },
  {
   "cell_type": "markdown",
   "id": "70c4bb67",
   "metadata": {
    "papermill": {
     "duration": 0.010511,
     "end_time": "2023-08-09T22:03:56.209621",
     "exception": false,
     "start_time": "2023-08-09T22:03:56.199110",
     "status": "completed"
    },
    "tags": []
   },
   "source": [
    "# Thankyou !!!"
   ]
  }
 ],
 "metadata": {
  "kernelspec": {
   "display_name": "Python 3",
   "language": "python",
   "name": "python3"
  },
  "language_info": {
   "codemirror_mode": {
    "name": "ipython",
    "version": 3
   },
   "file_extension": ".py",
   "mimetype": "text/x-python",
   "name": "python",
   "nbconvert_exporter": "python",
   "pygments_lexer": "ipython3",
   "version": "3.10.12"
  },
  "papermill": {
   "default_parameters": {},
   "duration": 170.670741,
   "end_time": "2023-08-09T22:03:58.841203",
   "environment_variables": {},
   "exception": null,
   "input_path": "__notebook__.ipynb",
   "output_path": "__notebook__.ipynb",
   "parameters": {},
   "start_time": "2023-08-09T22:01:08.170462",
   "version": "2.4.0"
  }
 },
 "nbformat": 4,
 "nbformat_minor": 5
}
